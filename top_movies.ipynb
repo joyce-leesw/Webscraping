{
  "nbformat": 4,
  "nbformat_minor": 0,
  "metadata": {
    "colab": {
      "provenance": [],
      "collapsed_sections": [],
      "include_colab_link": true
    },
    "kernelspec": {
      "name": "python3",
      "display_name": "Python 3"
    },
    "language_info": {
      "name": "python"
    },
    "accelerator": "GPU"
  },
  "cells": [
    {
      "cell_type": "markdown",
      "metadata": {
        "id": "view-in-github",
        "colab_type": "text"
      },
      "source": [
        "<a href=\"https://colab.research.google.com/github/joyce-leesw/Webscraping/blob/main/top_movies.ipynb\" target=\"_parent\"><img src=\"https://colab.research.google.com/assets/colab-badge.svg\" alt=\"Open In Colab\"/></a>"
      ]
    },
    {
      "cell_type": "code",
      "execution_count": 2,
      "metadata": {
        "id": "dDZ9SR7gtZ0u",
        "colab": {
          "base_uri": "https://localhost:8080/"
        },
        "outputId": "ef566fa6-eda0-4276-a866-775d0382bd66"
      },
      "outputs": [
        {
          "output_type": "stream",
          "name": "stdout",
          "text": [
            "Mounted at /content/gdrive/\n"
          ]
        }
      ],
      "source": [
        "import lxml\n",
        "import re\n",
        "import numpy as np\n",
        "import pandas as pd\n",
        "import os\n",
        "from google.colab import drive\n",
        "drive.mount('/content/gdrive/')\n",
        "\n",
        "# base_path = \"gdrive/MyDrive\"\n",
        "# os.chdir(base_path)\n",
        "\n",
        "from bs4 import BeautifulSoup\n",
        "from requests import get"
      ]
    },
    {
      "cell_type": "code",
      "source": [
        "os.listdir()"
      ],
      "metadata": {
        "colab": {
          "base_uri": "https://localhost:8080/"
        },
        "id": "AkGgFR0-gSyo",
        "outputId": "6af5543b-bbb2-4ec6-dfd6-1209d0dfb678"
      },
      "execution_count": 3,
      "outputs": [
        {
          "output_type": "execute_result",
          "data": {
            "text/plain": [
              "['.config', 'gdrive', 'sample_data']"
            ]
          },
          "metadata": {},
          "execution_count": 3
        }
      ]
    },
    {
      "cell_type": "code",
      "source": [
        "class IMDB(object):\n",
        "\t\"\"\"docstring for IMDB\"\"\"\n",
        "\tdef __init__(self, url):\n",
        "\t\tsuper(IMDB, self).__init__()\n",
        "\t\tpage = get(url)\n",
        "\n",
        "\t\tself.soup = BeautifulSoup(page.content, 'lxml')\n",
        "\n",
        "\tdef articleTitle(self):\n",
        "\t\treturn self.soup.find(\"h1\", class_=\"header\").text.replace(\"\\n\",\"\")\n",
        "\n",
        "\tdef bodyContent(self):\n",
        "\t\tcontent = self.soup.find(id=\"main\")\n",
        "\t\treturn content.find_all(\"div\", class_=\"lister-item mode-advanced\")\n",
        "\n",
        "\tdef movieData(self):\n",
        "\t\tmovieFrame = self.bodyContent()\n",
        "\t\tmovieTitle = []\n",
        "\t\tmovieDate = []\n",
        "\t\tmovieRunTime = []\n",
        "\t\tmovieGenre = []\n",
        "\t\tmovieRating = []\n",
        "\t\tmovieDirector = []\n",
        "\t\tmovieStars = []\n",
        "\t\tfor movie in movieFrame:\n",
        "\t\t\tmovieFirstLine = movie.find(\"h3\", class_=\"lister-item-header\")\n",
        "\t\t\tmovieTitle.append(movieFirstLine.find(\"a\").text)\n",
        "\t\t\tmovieDate.append(re.sub(r\"[()]\",\"\", movieFirstLine.find_all(\"span\")[-1].text))\n",
        "\t\t\ttry:\n",
        "\t\t\t\tmovieRunTime.append(movie.find(\"span\", class_=\"runtime\").text[:-4])\n",
        "\t\t\texcept:\n",
        "\t\t\t\tmovieRunTime.append(np.nan)\n",
        "\t\t\ttry:\n",
        "\t\t\t\tmovieGenre.append(movie.find(\"span\", class_=\"genre\").text.rstrip().replace(\"\\n\",\"\").split(\",\"))\n",
        "\t\t\texcept:\n",
        "\t\t\t\t\tmovieGenre.append(np.nan)\n",
        "\t\t\ttry:\n",
        "\t\t\t\tmovieRating.append(movie.find(\"strong\").text)\n",
        "\t\t\texcept:\n",
        "\t\t\t\tmovieRating.append(np.nan)\n",
        "\t\t\t\n",
        "\t\t\tshit = movie.find_all(\"p\", class_=\"\")\n",
        "\t\t\ttry: \n",
        "\t\t\t\t# shit[1].text.replace(\"\\n\",\"\").split('|')[1])\n",
        "\t\t\t\tDirandStar = shit[1].text.replace(\"\\n\",\"\").split('|')\n",
        "\t\t\t\t# Stars_string = DirandStar[1].replace(\"Stars:\",\"\")\n",
        "\t\t\t\tStars_string = DirandStar[1].strip().replace(\":\",\",\")\n",
        "\t\t\t\tmovieCast_list = Stars_string.split(\",\")[1:]\n",
        "\t\t\t\tmovieStars.append(movieCast_list)\n",
        "\t\t\texcept:\n",
        "\t\t\t\tmovieStars.append(np.nan)\n",
        "\n",
        "\t\t\tmovieNumbers = movie.find_all(\"span\", attrs={\"name\": \"nv\"})\n",
        "\t\n",
        "\t\tmovieData = pd.DataFrame({ \"Title\": movieTitle, \"Release_Year\": movieDate, \"Genre\": movieGenre, \"Runtime\": movieRunTime, \"Ratings\": movieRating,\"Stars\": movieStars,})\n",
        "\t\t\n",
        "\t\tmovieData = [movieTitle, movieDate, movieRunTime, movieGenre, movieRating, movieStars]\n",
        "\t\treturn movieData"
      ],
      "metadata": {
        "id": "E8GJaE7htrmh"
      },
      "execution_count": 8,
      "outputs": []
    },
    {
      "cell_type": "code",
      "source": [
        "array_popularity_asc = []"
      ],
      "metadata": {
        "id": "u1vlL_qLacbR"
      },
      "execution_count": 9,
      "outputs": []
    },
    {
      "cell_type": "code",
      "source": [
        "# cant be greater than 40\n",
        "MAX_PAGE = 40\n",
        "\n",
        "imageArr = []\n",
        "\n",
        "year_details = '&year=1931-01-01,2016-12-31'\n",
        "\n",
        "for i in range(0,MAX_PAGE):\n",
        "    totalRecords = 0 if i==0 else (250*i)+1\n",
        "    url_pop_asc = f'https://www.imdb.com/search/title/?title_type=feature{year_details}&languages=en&count=250&start={totalRecords}&sort=moviemeter,asc'\n",
        "    array_popularity_asc.append(url_pop_asc)\n"
      ],
      "metadata": {
        "id": "XVM1tBwLxnWu"
      },
      "execution_count": 10,
      "outputs": []
    },
    {
      "cell_type": "code",
      "source": [
        "all_data_urls = array_popularity_asc\n",
        "movieTitle_array, movieDate_array, movieRunTime_array, movieGenre_array, movieRating_array, movieStars_array = [],[],[],[],[],[]\n",
        "\n",
        "for i in range(len(all_data_urls)):\n",
        "    id1 = IMDB(all_data_urls[i])\n",
        "    movieTitle_array = movieTitle_array + id1.movieData()[0]\n",
        "    movieDate_array = movieDate_array + id1.movieData()[1]\n",
        "    movieRunTime_array = movieRunTime_array + id1.movieData()[2]\n",
        "    movieGenre_array = movieGenre_array + id1.movieData()[3]\n",
        "    movieRating_array = movieRating_array + id1.movieData()[4]\n",
        "    movieStars_array = movieStars_array + id1.movieData()[5]\n",
        "\n",
        "\n",
        "messy_movieDf = pd.DataFrame({\n",
        "    \"Title\": movieTitle_array,\n",
        "    \"Release_Year\": movieDate_array,\n",
        "    \"Run_Time\": movieRunTime_array,\n",
        "    \"Genre\": movieGenre_array,\n",
        "    \"Rating\": movieRating_array,\n",
        "    \"Stars\": movieStars_array,\n",
        "})"
      ],
      "metadata": {
        "id": "QIN82LQOkzSz"
      },
      "execution_count": 11,
      "outputs": []
    },
    {
      "cell_type": "code",
      "source": [
        "messy_movieDf.shape"
      ],
      "metadata": {
        "id": "xGVSUc8AcB5M",
        "colab": {
          "base_uri": "https://localhost:8080/"
        },
        "outputId": "26f4f559-ae7a-430c-a678-aab6eb513820"
      },
      "execution_count": 12,
      "outputs": [
        {
          "output_type": "execute_result",
          "data": {
            "text/plain": [
              "(10000, 6)"
            ]
          },
          "metadata": {},
          "execution_count": 12
        }
      ]
    },
    {
      "cell_type": "code",
      "source": [
        "# movieDf = messy_movieDf.loc[messy_movieDf.astype(str).drop_duplicates().index]\n",
        "# movieDf"
      ],
      "metadata": {
        "id": "hNhJh_M0vpM1"
      },
      "execution_count": 13,
      "outputs": []
    },
    {
      "cell_type": "code",
      "source": [
        "# # display(movieDf)\n",
        "# string = \"\"\n",
        "# for i in list(movieDf[\"Stars\"].iloc[int(0.5*len(movieDf)):]):\n",
        "#   string = string+f\"{i}, \"\n",
        "# # type(movieDf)\n",
        "# print(string)"
      ],
      "metadata": {
        "id": "hhY77flrTCd6"
      },
      "execution_count": 14,
      "outputs": []
    },
    {
      "cell_type": "code",
      "source": [],
      "metadata": {
        "id": "-T50Z-X6oHDH"
      },
      "execution_count": null,
      "outputs": []
    }
  ]
}